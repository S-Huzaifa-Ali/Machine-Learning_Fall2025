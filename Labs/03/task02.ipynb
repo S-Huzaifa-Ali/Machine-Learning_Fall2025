{
 "cells": [
  {
   "cell_type": "markdown",
   "id": "195726ad",
   "metadata": {},
   "source": [
    "# Lab 03 - Task 2\n",
    "Implement kNN from scratch on the Iris dataset using Chi-squared distance."
   ]
  },
  {
   "cell_type": "code",
   "execution_count": null,
   "id": "791fca81",
   "metadata": {},
   "outputs": [],
   "source": [
    "\n",
    "import numpy as np\n",
    "from sklearn.datasets import load_iris\n",
    "from sklearn.model_selection import train_test_split\n",
    "from sklearn.metrics import accuracy_score, confusion_matrix, classification_report\n",
    "\n",
    "def chi_squared_distance(a, b, eps=1e-10):\n",
    "    a = np.asarray(a, dtype=float)\n",
    "    b = np.asarray(b, dtype=float)\n",
    "    return np.sum(((a - b) ** 2) / (a + b + eps))\n",
    "\n",
    "iris = load_iris()\n",
    "X = iris.data\n",
    "y = iris.target\n",
    "\n",
    "X_train, X_test, y_train, y_test = train_test_split(X, y, test_size=0.2, random_state=0, stratify=y)\n",
    "\n",
    "def predict_single(x_query, X_train, y_train, k):\n",
    "    dists = [chi_squared_distance(x_query, x) for x in X_train]\n",
    "    idx = np.argsort(dists)[:k]\n",
    "    votes = y_train[idx]\n",
    "    vals, counts = np.unique(votes, return_counts=True)\n",
    "    return vals[np.argmax(counts)]\n",
    "\n",
    "k = 5\n",
    "y_pred = np.array([predict_single(xq, X_train, y_train, k) for xq in X_test])\n",
    "acc = accuracy_score(y_test, y_pred)\n",
    "cm = confusion_matrix(y_test, y_pred)\n",
    "\n",
    "print(f\"Accuracy = {acc:.4f}\")\n",
    "print(\"Confusion Matrix:\\n\", cm)\n",
    "print(\"\\nClassification Report:\\n\", classification_report(y_test, y_pred, target_names=iris.target_names))\n"
   ]
  }
 ],
 "metadata": {},
 "nbformat": 4,
 "nbformat_minor": 5
}
